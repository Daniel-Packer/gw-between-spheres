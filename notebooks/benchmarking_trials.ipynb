{
 "cells": [
  {
   "cell_type": "code",
   "execution_count": 1,
   "metadata": {},
   "outputs": [
    {
     "name": "stdout",
     "output_type": "stream",
     "text": [
      "/cis/home/dpacker/my_documents/gw-between-spheres\n"
     ]
    }
   ],
   "source": [
    "%load_ext autoreload\n",
    "%autoreload 2\n",
    "%cd .."
   ]
  },
  {
   "cell_type": "code",
   "execution_count": 2,
   "metadata": {},
   "outputs": [],
   "source": [
    "import os\n",
    "os.environ['CUDA_VISIBLE_DEVICES'] = '2, 3'"
   ]
  },
  {
   "cell_type": "code",
   "execution_count": 3,
   "metadata": {},
   "outputs": [],
   "source": [
    "from src import benchmarks\n",
    "import matplotlib.pyplot as plt\n",
    "import pandas as pd\n",
    "import seaborn as sns\n",
    "from tqdm.notebook import tqdm\n",
    "from pathlib import Path\n",
    "import numpy as np\n",
    "\n",
    "\n",
    "root_path = Path(\".\")\n",
    "data_path = root_path / \"data\""
   ]
  },
  {
   "cell_type": "code",
   "execution_count": 4,
   "metadata": {},
   "outputs": [
    {
     "data": {
      "application/vnd.jupyter.widget-view+json": {
       "model_id": "14da7282ffc14eb0bec2fe269e7471db",
       "version_major": 2,
       "version_minor": 0
      },
      "text/plain": [
       "  0%|          | 0/18 [00:00<?, ?it/s]"
      ]
     },
     "metadata": {},
     "output_type": "display_data"
    },
    {
     "name": "stderr",
     "output_type": "stream",
     "text": [
      "2024-06-20 14:01:24.363174: W external/xla/xla/service/gpu/nvptx_compiler.cc:763] The NVIDIA driver's CUDA version is 12.0 which is older than the ptxas CUDA version (12.5.40). Because the driver is older than the ptxas version, XLA is disabling parallel compilation, which may slow down compilation. You should update your NVIDIA driver or use the NVIDIA-provided CUDA forward compatibility packages.\n",
      "2024-06-20 14:11:04.122035: W external/xla/xla/service/hlo_rematerialization.cc:3005] Can't reduce memory use below 5.37GiB (5765746201 bytes) by rematerialization; only reduced to 6.05GiB (6500000000 bytes), down from 6.05GiB (6500000000 bytes) originally\n",
      "2024-06-20 14:12:18.001928: W external/xla/xla/service/hlo_rematerialization.cc:3005] Can't reduce memory use below 4.48GiB (4815746201 bytes) by rematerialization; only reduced to 6.52GiB (7000000000 bytes), down from 6.52GiB (7000000000 bytes) originally\n",
      "2024-06-20 14:13:38.827016: W external/xla/xla/service/hlo_rematerialization.cc:3005] Can't reduce memory use below 3.60GiB (3865746201 bytes) by rematerialization; only reduced to 6.98GiB (7500000000 bytes), down from 6.98GiB (7500000000 bytes) originally\n",
      "2024-06-20 14:15:04.066686: W external/xla/xla/service/hlo_rematerialization.cc:3005] Can't reduce memory use below 2.71GiB (2915746201 bytes) by rematerialization; only reduced to 7.45GiB (8000000000 bytes), down from 7.45GiB (8000000000 bytes) originally\n",
      "2024-06-20 14:16:39.170992: W external/xla/xla/service/hlo_rematerialization.cc:3005] Can't reduce memory use below 1.83GiB (1965746201 bytes) by rematerialization; only reduced to 7.92GiB (8500000000 bytes), down from 7.92GiB (8500000000 bytes) originally\n",
      "2024-06-20 14:18:19.435414: W external/xla/xla/service/hlo_rematerialization.cc:3005] Can't reduce memory use below 968.69MiB (1015746201 bytes) by rematerialization; only reduced to 8.38GiB (9000000000 bytes), down from 8.38GiB (9000000000 bytes) originally\n"
     ]
    }
   ],
   "source": [
    "# m = 3\n",
    "# n = 3\n",
    "n_trials = 20\n",
    "# subsampling_strategy = \"voronoi\"\n",
    "\n",
    "\n",
    "for subsample_strategy in [\"voronoi\"]:\n",
    "    for m in range(4, 5):\n",
    "        for n in range(1, 2):\n",
    "            benchmarks.benchmarking_run(\n",
    "                m,\n",
    "                n,\n",
    "                n_trials,\n",
    "                subsample_strategy,\n",
    "                data_path,\n",
    "                np.arange(25, 451, 25),\n",
    "                verbose=True,\n",
    "            )"
   ]
  },
  {
   "cell_type": "code",
   "execution_count": null,
   "metadata": {},
   "outputs": [],
   "source": []
  },
  {
   "cell_type": "code",
   "execution_count": null,
   "metadata": {},
   "outputs": [],
   "source": []
  }
 ],
 "metadata": {
  "kernelspec": {
   "display_name": "pyot",
   "language": "python",
   "name": "python3"
  },
  "language_info": {
   "codemirror_mode": {
    "name": "ipython",
    "version": 3
   },
   "file_extension": ".py",
   "mimetype": "text/x-python",
   "name": "python",
   "nbconvert_exporter": "python",
   "pygments_lexer": "ipython3",
   "version": "3.11.4"
  }
 },
 "nbformat": 4,
 "nbformat_minor": 2
}
